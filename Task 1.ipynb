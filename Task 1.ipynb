{
  "nbformat": 4,
  "nbformat_minor": 0,
  "metadata": {
    "colab": {
      "provenance": []
    },
    "kernelspec": {
      "name": "python3",
      "display_name": "Python 3"
    },
    "language_info": {
      "name": "python"
    }
  },
  "cells": [
    {
      "cell_type": "markdown",
      "source": [
        "# **List**"
      ],
      "metadata": {
        "id": "gzIRAZEwEOUq"
      }
    },
    {
      "cell_type": "code",
      "execution_count": 1,
      "metadata": {
        "colab": {
          "base_uri": "https://localhost:8080/"
        },
        "id": "Nw8J706R2nCI",
        "outputId": "989094c9-415a-4fde-8b6c-6e7c3964a6ed"
      },
      "outputs": [
        {
          "output_type": "stream",
          "name": "stdout",
          "text": [
            "New Update set [55, 67, 78, 91, 98, 116]\n"
          ]
        }
      ],
      "source": [
        "#Creating a List\n",
        "my_list = [55, 67, 78, 91, 98]\n",
        "\n",
        "#Adding an element to the list\n",
        "\n",
        "my_list.append(116)\n",
        "print(\"New Update set\", my_list)\n"
      ]
    },
    {
      "cell_type": "code",
      "source": [
        "# Removing an element\n",
        "\n",
        "my_list.remove(98)\n",
        "print(\"New Update set\", my_list)"
      ],
      "metadata": {
        "colab": {
          "base_uri": "https://localhost:8080/"
        },
        "id": "Z9V11i-bA3NB",
        "outputId": "7260a194-674e-4654-9412-fb2e16d237ac"
      },
      "execution_count": 3,
      "outputs": [
        {
          "output_type": "stream",
          "name": "stdout",
          "text": [
            "New Update set [55, 67, 78, 91, 116]\n"
          ]
        }
      ]
    },
    {
      "cell_type": "code",
      "source": [
        "# Modifying an Element\n",
        "\n",
        "my_list[2]=87\n",
        "print(\"New Update set\", my_list)"
      ],
      "metadata": {
        "colab": {
          "base_uri": "https://localhost:8080/"
        },
        "id": "UNGO7aNKCEik",
        "outputId": "9ec71fb9-e8a5-4c28-ed09-8a9a868033a0"
      },
      "execution_count": 5,
      "outputs": [
        {
          "output_type": "stream",
          "name": "stdout",
          "text": [
            "New Update set [55, 67, 87, 91, 116]\n"
          ]
        }
      ]
    },
    {
      "cell_type": "markdown",
      "source": [
        "# **Dictionary**"
      ],
      "metadata": {
        "id": "5IqhpQO-EU12"
      }
    },
    {
      "cell_type": "code",
      "source": [
        "# Creating a Dictionary\n",
        "\n",
        "my_dist= {'name':'Niron', 'age':'29', 'City':'Mumbai'}\n",
        "print(my_dist)"
      ],
      "metadata": {
        "colab": {
          "base_uri": "https://localhost:8080/"
        },
        "id": "d-coKbPZEerb",
        "outputId": "1d02fcd3-d2d4-4be5-abef-dc6ac4c1c81b"
      },
      "execution_count": 8,
      "outputs": [
        {
          "output_type": "stream",
          "name": "stdout",
          "text": [
            "{'name': 'Niron', 'age': '29', 'City': 'Mumbai'}\n"
          ]
        }
      ]
    },
    {
      "cell_type": "code",
      "source": [
        "# Adding\n",
        "\n",
        "my_dist['Gender']='Male'\n",
        "print(\"Update Dictionary\" ,my_dist)"
      ],
      "metadata": {
        "colab": {
          "base_uri": "https://localhost:8080/"
        },
        "id": "c-B1EFG1Erku",
        "outputId": "d4e6e707-25a6-4e92-912f-cbc36950c35e"
      },
      "execution_count": 9,
      "outputs": [
        {
          "output_type": "stream",
          "name": "stdout",
          "text": [
            "Update Dictionary {'name': 'Niron', 'age': '29', 'City': 'Mumbai', 'Gender': 'Male'}\n"
          ]
        }
      ]
    },
    {
      "cell_type": "code",
      "source": [
        "# Removing\n",
        "\n",
        "del my_dist['City']\n",
        "print(\"Update Dictionary\" ,my_dist)"
      ],
      "metadata": {
        "colab": {
          "base_uri": "https://localhost:8080/"
        },
        "id": "0aHZu-krFvUr",
        "outputId": "c841bbae-a006-457f-8a02-19b099c00763"
      },
      "execution_count": 11,
      "outputs": [
        {
          "output_type": "stream",
          "name": "stdout",
          "text": [
            "Update Dictionary {'name': 'Niron', 'age': '29', 'Gender': 'Male'}\n"
          ]
        }
      ]
    },
    {
      "cell_type": "code",
      "source": [
        "# Modifying\n",
        "\n",
        "my_dist['age']='30'\n",
        "print(\"Update Dictionary\" ,my_dist)"
      ],
      "metadata": {
        "colab": {
          "base_uri": "https://localhost:8080/"
        },
        "id": "xDzbftz4GNML",
        "outputId": "71853600-a8c1-4e45-9563-b93a6b409651"
      },
      "execution_count": 12,
      "outputs": [
        {
          "output_type": "stream",
          "name": "stdout",
          "text": [
            "Update Dictionary {'name': 'Niron', 'age': '30', 'Gender': 'Male'}\n"
          ]
        }
      ]
    },
    {
      "cell_type": "markdown",
      "source": [
        "# **Set**"
      ],
      "metadata": {
        "id": "idIQHQ-_Ggrw"
      }
    },
    {
      "cell_type": "code",
      "source": [
        "# Creating a Set\n",
        "\n",
        "my_set= {1,2,3,4,5,}\n",
        "print(\"Set\", my_set)"
      ],
      "metadata": {
        "colab": {
          "base_uri": "https://localhost:8080/"
        },
        "id": "uuuLpYMGGi9L",
        "outputId": "63432c42-bb76-40e3-bf9f-a1cfd7ad16f8"
      },
      "execution_count": 14,
      "outputs": [
        {
          "output_type": "stream",
          "name": "stdout",
          "text": [
            "Set {1, 2, 3, 4, 5}\n"
          ]
        }
      ]
    },
    {
      "cell_type": "code",
      "source": [
        "# Adding\n",
        "\n",
        "my_set.add(67)\n",
        "print(\"Update Set\", my_set)"
      ],
      "metadata": {
        "colab": {
          "base_uri": "https://localhost:8080/"
        },
        "id": "Jyqe1JTCG2h5",
        "outputId": "547f5dbd-2571-4a5c-900a-d72f05f4414e"
      },
      "execution_count": 15,
      "outputs": [
        {
          "output_type": "stream",
          "name": "stdout",
          "text": [
            "Update Set {1, 2, 3, 4, 5, 67}\n"
          ]
        }
      ]
    },
    {
      "cell_type": "code",
      "source": [
        "# Removing\n",
        "\n",
        "my_set.remove(5)\n",
        "print(\"Update Set\", my_set)"
      ],
      "metadata": {
        "colab": {
          "base_uri": "https://localhost:8080/"
        },
        "id": "oHGfAAhtHF8h",
        "outputId": "60d87f82-6645-49bc-ffba-2f9601c26e08"
      },
      "execution_count": 16,
      "outputs": [
        {
          "output_type": "stream",
          "name": "stdout",
          "text": [
            "Update Set {1, 2, 3, 4, 67}\n"
          ]
        }
      ]
    },
    {
      "cell_type": "code",
      "source": [
        "# Modifying\n",
        "\n",
        "my_set.discard(4)\n",
        "my_set.add(19)\n",
        "\n",
        "print(\"Update Set\", my_set)"
      ],
      "metadata": {
        "colab": {
          "base_uri": "https://localhost:8080/"
        },
        "id": "AKn1cl7VHTK_",
        "outputId": "a02ac00f-0f4d-4cd7-c5ac-860802d0154c"
      },
      "execution_count": 19,
      "outputs": [
        {
          "output_type": "stream",
          "name": "stdout",
          "text": [
            "Update Set {1, 2, 3, 19, 67}\n"
          ]
        }
      ]
    }
  ]
}